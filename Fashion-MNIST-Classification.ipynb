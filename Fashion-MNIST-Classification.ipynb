{
 "cells": [
  {
   "cell_type": "markdown",
   "id": "288cedaf-c2fe-49f2-96f9-89b3a6c4b0f4",
   "metadata": {},
   "source": [
    "# Fashion MNIST Classification with Artificial Neural Networks (ANNs)"
   ]
  },
  {
   "cell_type": "markdown",
   "id": "2718cc9b-7c94-4545-815b-d0d57189d419",
   "metadata": {},
   "source": [
    "# ABOUT THE DATASET\n",
    "The Fashion MNIST( Modified National Institute of Standards and Technology) dataset is a popular benchmark dataset often used to evaluate machine learning models in image classification tasks. Here's a detailed description of the dataset:\n",
    "\n",
    "**1. Overview**\n",
    "Fashion MNIST was created as a more challenging alternative to the MNIST digit dataset.\n",
    "It consists of 70,000 grayscale images of 10 different classes of clothing items.\n",
    "Each image is 28x28 pixels, and the dataset has a similar structure to MNIST, making it easy to use for testing and comparison.\n",
    "\n",
    "**2. Classes and Labels**\n",
    "There are 10 classes in total, each representing a different type of fashion item. Each class is labeled with an integer from 0 to 9 and has an associated textual label:\n",
    "\n",
    "- 0: T-shirt/top\n",
    "- 1: Trouser\n",
    "- 2: Pullover\n",
    "- 3: Dress\n",
    "- 4: Coat\n",
    "- 5: Sandal\n",
    "- 6: Shirt\n",
    "- 7: Sneaker\n",
    "- 8: Bag\n",
    "- 9: Ankle boot\n",
    "\n",
    "**3. Dataset Split**\n",
    "The dataset is split into:\n",
    "\n",
    "- **60,000 training images:** Used for training machine learning models.\n",
    "- **10,000 test images:** Used for evaluating model performance on unseen data.\n",
    "\n",
    "**4. Image Characteristics**\n",
    "**Each image in the dataset:**\n",
    "- Is a 28x28 pixel grayscale image (one color channel).\n",
    "- Contains a single clothing item centered in the image.\n",
    "- Has pixel values ranging from 0 to 255 (0 for black, 255 for white).\n",
    "- Images are generally low-resolution, making the classification task challenging, especially for items with subtle visual differences (e.g., Shirt vs. T-shirt/top).\n",
    "\n",
    "**5. Why Fashion MNIST?**\n",
    "- __Improves upon MNIST:__ Fashion MNIST is often used as a more difficult alternative to MNIST digits, as it requires the model to capture more complex patterns to distinguish between clothing items.\n",
    "  \n",
    "- __Benchmark for Model Testing:__ Due to its simplicity and similarity to MNIST, Fashion MNIST has become a standard dataset for testing image classification models and comparing different algorithms.\n",
    "\n",
    "**6. Usage**\n",
    "\n",
    "The dataset is available in many machine learning libraries, such as Keras, making it easy to load and use for experimentation.\n",
    "It's often used for tasks such as image classification, testing neural network architectures, and comparing model performances.\n",
    "\n",
    "**7. Sample Class Distribution**\n",
    "\n",
    "The classes are balanced, with each class containing roughly the same number of samples, so there’s no need for additional techniques to handle class imbalance.\n",
    "\n",
    "Fashion MNIST serves as a great introduction to image classification, while also offering more complexity than MNIST digits, pushing models to learn nuanced differences between classes."
   ]
  },
  {
   "cell_type": "markdown",
   "id": "fc4035fc-55a7-4da1-83cb-6299965ba324",
   "metadata": {},
   "source": [
    "### Objective\n",
    "- To build an Artificial Neural Network (ANN) model using the Fashion MNIST dataset.\n",
    "- Preprocess the data, create visualizations, compile and evaluate the model on both training and validation sets.\n",
    "- Use the trained model to predict on the test set and display some results.\n"
   ]
  },
  {
   "cell_type": "markdown",
   "id": "da9d99d3-123f-4243-ac87-9eb9461da649",
   "metadata": {},
   "source": [
    "# Step 1: Import Libraries"
   ]
  },
  {
   "cell_type": "code",
   "execution_count": 1,
   "id": "60770641-8f33-4155-88a8-944badf6fed6",
   "metadata": {},
   "outputs": [],
   "source": [
    "\n",
    "# Import libraries required for loading the dataset, building the neural network model, \n",
    "# and creating visualizations for data exploration and model performance.\n",
    "\n",
    "import numpy as np  # For handling numerical operations and array manipulations\n",
    "import matplotlib.pyplot as plt  # For creating plots and visualizations\n",
    "import seaborn as sns  # For statistical data visualization, particularly for class distribution\n",
    "\n",
    "from tensorflow.keras.datasets import fashion_mnist  # To load the Fashion MNIST dataset\n",
    "from tensorflow.keras.models import Sequential  # To build a sequential (layer-by-layer) neural network model\n",
    "from tensorflow.keras.layers import Dense  # Fully connected neural network layer used in ANN\n",
    "from tensorflow.keras.optimizers import Adam  # Optimizer for training the neural network\n",
    "from sklearn.metrics import classification_report\n"
   ]
  },
  {
   "cell_type": "markdown",
   "id": "7c10f29a-e8c5-466a-984d-053dc73b2040",
   "metadata": {},
   "source": [
    "### Step 2: Loading the Fashion MNIST Dataset\n",
    "- Loading the Fashion MNIST dataset directly from Keras and explore its structure.\n",
    "- Splitting the data into training and test sets.\n"
   ]
  },
  {
   "cell_type": "code",
   "execution_count": 3,
   "id": "2ae25b0d-7a2b-4474-9e21-e11fdff425fb",
   "metadata": {},
   "outputs": [
    {
     "name": "stdout",
     "output_type": "stream",
     "text": [
      "Training data shape: (60000, 28, 28)\n",
      "Test data shape: (10000, 28, 28)\n",
      "Training labels shape: (60000,)\n",
      "Test labels shape: (10000,)\n"
     ]
    }
   ],
   "source": [
    "# Load the Fashion MNIST dataset\n",
    "(x_train, y_train), (x_test, y_test) = fashion_mnist.load_data()\n",
    "\n",
    "# Print the shape of the training and test data\n",
    "print(f\"Training data shape: {x_train.shape}\")\n",
    "print(f\"Test data shape: {x_test.shape}\")\n",
    "print(f\"Training labels shape: {y_train.shape}\")\n",
    "print(f\"Test labels shape: {y_test.shape}\")\n"
   ]
  },
  {
   "cell_type": "markdown",
   "id": "0ac13565-9b3f-4bf3-ab72-a504d7eb190f",
   "metadata": {},
   "source": [
    "These shapes give insight into the structure of the MNIST dataset:\n",
    "\n",
    "**1. Training Data Shape:** (60000, 28, 28)\n",
    "\n",
    "There are 60,000 training images in the dataset.\n",
    "Each image has dimensions 28x28 pixels, so each image is a 2D array with 784 (28*28) pixel values in grayscale.\n",
    "\n",
    "**2. Test Data Shape:**(10000, 28, 28)\n",
    "\n",
    "There are 10,000 test images in the dataset, with each image also having 28x28 pixels.\n",
    "\n",
    "**3. Training Labels Shape:** (60000,)\n",
    "\n",
    "There are 60,000 labels in the training set, corresponding to the 60,000 training images.\n",
    "Each label is a single integer representing the digit (0-9) that the corresponding image represents.\n",
    "\n",
    "**4. Test Labels Shape:** (10000,)\n",
    "\n",
    "There are 10,000 labels in the test set, corresponding to the 10,000 test images."
   ]
  },
  {
   "cell_type": "markdown",
   "id": "a3f63bab-1e1f-4dfb-832d-a791d3bd55e9",
   "metadata": {},
   "source": [
    "**The cell above loads the Fashion MNIST dataset, which is split into training and test sets. Printing the shapes allows us to verify that the data has been loaded correctly and understand the dimensions for later preprocessing steps.**"
   ]
  },
  {
   "cell_type": "markdown",
   "id": "54b32197-a591-4430-ae80-961b12d32560",
   "metadata": {},
   "source": [
    "### Step 3: Data Preprocessing\n",
    "- Scale pixel values to the range [0, 1] by dividing by 255.\n",
    "- Reshape each 28x28 image into a 784-length vector to use in our ANN.\n"
   ]
  },
  {
   "cell_type": "code",
   "execution_count": 5,
   "id": "7b0ce2b1-b3f8-46f0-a50c-2db68f2eae7d",
   "metadata": {},
   "outputs": [
    {
     "name": "stdout",
     "output_type": "stream",
     "text": [
      "Reshaped training data shape: (60000, 784)\n",
      "Reshaped test data shape: (10000, 784)\n"
     ]
    }
   ],
   "source": [
    "# Scale pixel values to [0, 1] range\n",
    "x_train = x_train / 255.0\n",
    "x_test = x_test / 255.0\n",
    "\n",
    "# Reshape each image to a 784-dimensional vector\n",
    "x_train = x_train.reshape(-1, 28 * 28)\n",
    "x_test = x_test.reshape(-1, 28 * 28)\n",
    "\n",
    "# Verify new shapes after reshaping\n",
    "print(f\"Reshaped training data shape: {x_train.shape}\")\n",
    "print(f\"Reshaped test data shape: {x_test.shape}\")\n"
   ]
  },
  {
   "cell_type": "markdown",
   "id": "8e63732f-e44d-421d-8924-d1cb57470ae6",
   "metadata": {},
   "source": [
    "- **Here, we scale the pixel values to a range of 0 to 1, which helps improve training stability for neural networks.**\n",
    "- **Also, reshaping each 28x28 image into a flat 784-dimensional vector, which is required for the ANN input layer since ANNs expect 1D input vectors rather than 2D images.**\n",
    "\n"
   ]
  },
  {
   "cell_type": "markdown",
   "id": "17d4efcd-1d8a-438d-a0ec-46e8ae7f81ec",
   "metadata": {},
   "source": [
    "### Step 4: Data Visualization\n",
    "- Display some sample images from the dataset along with their labels.\n",
    "- Create a bar chart showing the distribution of samples across different classes.\n"
   ]
  },
  {
   "cell_type": "markdown",
   "id": "30fd3ac3-a100-41ae-be88-2ee11551d2a1",
   "metadata": {},
   "source": [
    "### Displaying Sample Images"
   ]
  },
  {
   "cell_type": "code",
   "execution_count": 7,
   "id": "ebe09c2c-d5dc-4494-a48d-ea89bbb5829f",
   "metadata": {},
   "outputs": [
    {
     "data": {
      "image/png": "[encoded data removed]",
      "text/plain": [
       "<Figure size 1000x1000 with 9 Axes>"
      ]
     },
     "metadata": {},
     "output_type": "display_data"
    }
   ],
   "source": [
    "# Display sample images from the dataset\n",
    "\n",
    "# Initialize a figure with a specified size to display a 3x3 grid of sample images\n",
    "plt.figure(figsize=(10, 10))\n",
    "\n",
    "# Loop through the first 9 images in the training dataset\n",
    "for i in range(9):\n",
    "    # Create a subplot in a 3x3 grid for each image\n",
    "    plt.subplot(3, 3, i + 1)\n",
    "    \n",
    "    # Display the image, reshaping each 784-dimensional vector to a 28x28 2D array\n",
    "    plt.imshow(x_train[i].reshape(28, 28), cmap='gray')\n",
    "    \n",
    "    # Set the title for each image to display its corresponding label\n",
    "    plt.title(f\"Label: {y_train[i]}\")\n",
    "    \n",
    "    # Remove the axis labels for a cleaner presentation\n",
    "    plt.axis('off')\n",
    "\n",
    "# Render the figure with the 3x3 grid of sample images\n",
    "plt.show()\n"
   ]
  },
  {
   "cell_type": "markdown",
   "id": "69809dc1-4b0a-44ae-b4b9-75ffff252d08",
   "metadata": {},
   "source": [
    "**This cell displays sample images from the dataset with their labels. Visualizing some examples helps us better understand the data and confirm that the images and labels are correctly loaded and preprocessed.**\n",
    "\n",
    "- **Thus, it is seen that all the labels are correct corresponding to the fashion item**\n",
    "- 0: T-shirt/top\n",
    "- 1: Trouser\n",
    "- 2: Pullover\n",
    "- 3: Dress\n",
    "- 4: Coat\n",
    "- 5: Sandal\n",
    "- 6: Shirt\n",
    "- 7: Sneaker\n",
    "- 8: Bag\n",
    "- 9: Ankle boot"
   ]
  },
  {
   "cell_type": "markdown",
   "id": "c29425ab-f3bd-497b-830b-ea89fdf4b917",
   "metadata": {},
   "source": [
    "### Distribution of Classes (Bar Chart)"
   ]
  },
  {
   "cell_type": "code",
   "execution_count": 9,
   "id": "c72b6cf4-6253-49cc-8a49-9e9236022d18",
   "metadata": {},
   "outputs": [
    {
     "data": {
      "image/png": "[encoded data removed]",
      "text/plain": [
       "<Figure size 640x480 with 1 Axes>"
      ]
     },
     "metadata": {},
     "output_type": "display_data"
    }
   ],
   "source": [
    "\n",
    "# Plot the distribution of samples across different classes\n",
    "\n",
    "# Create a count plot for the training labels to show the number of samples in each class\n",
    "sns.countplot(y_train)\n",
    "\n",
    "# Set the title of the plot to describe its content\n",
    "plt.title(\"Distribution of Samples Across Classes\")\n",
    "\n",
    "# Label the x-axis to indicate it represents the class labels\n",
    "plt.xlabel(\"Class Label\")\n",
    "\n",
    "# Label the y-axis to show it represents the frequency of samples per class\n",
    "plt.ylabel(\"Frequency\")\n",
    "\n",
    "# Display the plot\n",
    "plt.show()\n"
   ]
  },
  {
   "cell_type": "markdown",
   "id": "91a5b1ad-f583-46b2-9f31-74333689c341",
   "metadata": {},
   "source": [
    "- ***Visualizing the distribution of classes in the training dataset.***\n",
    "- ***This helps in confirming that the dataset is balanced across classes, which is important for training a fair model without any bias toward specific classes.***"
   ]
  },
  {
   "cell_type": "markdown",
   "id": "82be0df3-2c1d-44dd-8ada-bc6344306269",
   "metadata": {},
   "source": [
    "### Step 5: Building the Artificial Neural Network (ANN)\n",
    "- Defining a Sequential model with two hidden layers.\n",
    "- Using ReLU activation for hidden layers and softmax for the output layer (for multi-class classification).\n"
   ]
  },
  {
   "cell_type": "code",
   "execution_count": 9,
   "id": "76038927-87fb-485b-a28b-ec8c6814caa4",
   "metadata": {},
   "outputs": [
    {
     "name": "stderr",
     "output_type": "stream",
     "text": [
      "C:\\Users\\taman\\anaconda3\\Lib\\site-packages\\keras\\src\\layers\\core\\dense.py:87: UserWarning: Do not pass an `input_shape`/`input_dim` argument to a layer. When using Sequential models, prefer using an `Input(shape)` object as the first layer in the model instead.\n",
      "  super().__init__(activity_regularizer=activity_regularizer, **kwargs)\n"
     ]
    }
   ],
   "source": [
    "# Define the architecture of the Artificial Neural Network (ANN) model\n",
    "\n",
    "# Initialize a Sequential model\n",
    "model = Sequential([\n",
    "    # Input layer with 128 units and ReLU activation, expecting input shape of 784 (flattened 28x28 image)\n",
    "    Dense(128, activation='relu', input_shape=(784,)),  \n",
    "    \n",
    "    # Hidden layer with 64 units and ReLU activation to capture complex patterns\n",
    "    Dense(64, activation='relu'),  \n",
    "    \n",
    "    # Output layer with 10 units and softmax activation, representing the 10 classes in Fashion MNIST\n",
    "    Dense(10, activation='softmax')  \n",
    "])"
   ]
  },
  {
   "cell_type": "markdown",
   "id": "c714f7d4-e836-406c-b1fb-a7155958c221",
   "metadata": {},
   "source": [
    "- **Defining the ANN architecture.**\n",
    "- **We use two hidden layers with ReLU activation functions, which allow the network to learn complex patterns, and a softmax output layer for multi-class classification across 10 classes.**\n",
    "\n"
   ]
  },
  {
   "cell_type": "markdown",
   "id": "5579a2d3-c6d5-4bb0-b9e1-809e60ad2d34",
   "metadata": {},
   "source": [
    "### Step 6: Compile the Model\n",
    "- Compile the model using the Adam optimizer and sparse categorical cross-entropy as the loss function.\n",
    "- Choose accuracy as the evaluation metric to monitor during training.\n"
   ]
  },
  {
   "cell_type": "code",
   "execution_count": 11,
   "id": "012244bf-9985-4ef9-91d6-8109ea26760f",
   "metadata": {},
   "outputs": [],
   "source": [
    "# Compile the model with an appropriate loss function, optimizer, and evaluation metrics\n",
    "\n",
    "# Compile the model using the Adam optimizer for efficient gradient-based optimization\n",
    "# Use sparse_categorical_crossentropy as the loss function, which is suitable for integer labels in multiclass classification\n",
    "# Track accuracy as a metric to monitor model performance during training and evaluation\n",
    "model.compile(optimizer=Adam(), \n",
    "              loss='sparse_categorical_crossentropy', \n",
    "              metrics=['accuracy'])\n",
    "\n"
   ]
  },
  {
   "cell_type": "markdown",
   "id": "b7785c4c-e7c4-494d-8827-826cca8036b9",
   "metadata": {},
   "source": [
    "- **In the cell above, the model is being compiled ,the optimizer, loss function, and evaluation metric are specifies.**\n",
    "- **We use the Adam optimizer for its efficiency and sparse_categorical_crossentropy as the loss function, which is suitable for multi-class classification where labels are integers.**\n"
   ]
  },
  {
   "cell_type": "markdown",
   "id": "3ee9051a-7a02-41d4-a589-0bd1eb1742f1",
   "metadata": {},
   "source": [
    "### Step 7: Train the Model\n",
    "- Train the model on the training data for a specified number of epochs.\n",
    "- Include validation data (20% of training data) to monitor the model’s performance during training.\n"
   ]
  },
  {
   "cell_type": "code",
   "execution_count": 13,
   "id": "d31dd6a8-9d83-44c9-9c8f-38088427fbf1",
   "metadata": {},
   "outputs": [
    {
     "name": "stdout",
     "output_type": "stream",
     "text": [
      "Epoch 1/10\n",
      "\u001b[1m1500/1500\u001b[0m \u001b[32m━━━━━━━━━━━━━━━━━━━━\u001b[0m\u001b[37m\u001b[0m \u001b[1m6s\u001b[0m 3ms/step - accuracy: 0.7670 - loss: 0.6623 - val_accuracy: 0.8405 - val_loss: 0.4372\n",
      "Epoch 2/10\n",
      "\u001b[1m1500/1500\u001b[0m \u001b[32m━━━━━━━━━━━━━━━━━━━━\u001b[0m\u001b[37m\u001b[0m \u001b[1m4s\u001b[0m 3ms/step - accuracy: 0.8577 - loss: 0.3926 - val_accuracy: 0.8401 - val_loss: 0.4288\n",
      "Epoch 3/10\n",
      "\u001b[1m1500/1500\u001b[0m \u001b[32m━━━━━━━━━━━━━━━━━━━━\u001b[0m\u001b[37m\u001b[0m \u001b[1m5s\u001b[0m 3ms/step - accuracy: 0.8732 - loss: 0.3413 - val_accuracy: 0.8656 - val_loss: 0.3625\n",
      "Epoch 4/10\n",
      "\u001b[1m1500/1500\u001b[0m \u001b[32m━━━━━━━━━━━━━━━━━━━━\u001b[0m\u001b[37m\u001b[0m \u001b[1m4s\u001b[0m 2ms/step - accuracy: 0.8821 - loss: 0.3197 - val_accuracy: 0.8751 - val_loss: 0.3527\n",
      "Epoch 5/10\n",
      "\u001b[1m1500/1500\u001b[0m \u001b[32m━━━━━━━━━━━━━━━━━━━━\u001b[0m\u001b[37m\u001b[0m \u001b[1m6s\u001b[0m 4ms/step - accuracy: 0.8865 - loss: 0.2980 - val_accuracy: 0.8812 - val_loss: 0.3352\n",
      "Epoch 6/10\n",
      "\u001b[1m1500/1500\u001b[0m \u001b[32m━━━━━━━━━━━━━━━━━━━━\u001b[0m\u001b[37m\u001b[0m \u001b[1m5s\u001b[0m 3ms/step - accuracy: 0.8963 - loss: 0.2794 - val_accuracy: 0.8810 - val_loss: 0.3332\n",
      "Epoch 7/10\n",
      "\u001b[1m1500/1500\u001b[0m \u001b[32m━━━━━━━━━━━━━━━━━━━━\u001b[0m\u001b[37m\u001b[0m \u001b[1m6s\u001b[0m 4ms/step - accuracy: 0.8957 - loss: 0.2714 - val_accuracy: 0.8888 - val_loss: 0.3111\n",
      "Epoch 8/10\n",
      "\u001b[1m1500/1500\u001b[0m \u001b[32m━━━━━━━━━━━━━━━━━━━━\u001b[0m\u001b[37m\u001b[0m \u001b[1m7s\u001b[0m 4ms/step - accuracy: 0.9021 - loss: 0.2615 - val_accuracy: 0.8843 - val_loss: 0.3155\n",
      "Epoch 9/10\n",
      "\u001b[1m1500/1500\u001b[0m \u001b[32m━━━━━━━━━━━━━━━━━━━━\u001b[0m\u001b[37m\u001b[0m \u001b[1m4s\u001b[0m 2ms/step - accuracy: 0.9086 - loss: 0.2458 - val_accuracy: 0.8847 - val_loss: 0.3278\n",
      "Epoch 10/10\n",
      "\u001b[1m1500/1500\u001b[0m \u001b[32m━━━━━━━━━━━━━━━━━━━━\u001b[0m\u001b[37m\u001b[0m \u001b[1m4s\u001b[0m 2ms/step - accuracy: 0.9082 - loss: 0.2380 - val_accuracy: 0.8899 - val_loss: 0.3352\n"
     ]
    }
   ],
   "source": [
    "# Train the model on the training data and store the training history for analysis\n",
    "\n",
    "# Use an 80-20 split for training and validation to monitor performance on unseen data\n",
    "# Set epochs to 10 for multiple training cycles to allow the model to learn patterns in the data\n",
    "# Set batch_size to 32 to process 32 samples at a time, balancing computation efficiency and gradient stability\n",
    "history = model.fit(x_train, y_train, validation_split=0.2, epochs=10, batch_size=32)"
   ]
  },
  {
   "cell_type": "markdown",
   "id": "5ff9c94e-fa28-4d11-88ed-171e01ce1e83",
   "metadata": {},
   "source": [
    "- **Training the model on the training set for 10 epochs.**\n",
    "- **We use a 20% validation split to monitor the model’s performance on unseen data during training, helping us detect overfitting or underfitting.**"
   ]
  },
  {
   "cell_type": "markdown",
   "id": "4cdc9b7a-4221-41be-a12d-b069b7adc62a",
   "metadata": {},
   "source": [
    "### Step 8: Visualize Training and Validation Performance\n",
    "\n",
    "- **Plotting training and validation accuracy and loss across epochs, to analyze the model's performance over time.** \n",
    "- **These plots help us see if the model is overfitting (where validation loss increases or diverges from training loss) or if it has stable learning.**\n",
    "\n"
   ]
  },
  {
   "cell_type": "code",
   "execution_count": 17,
   "id": "ef16ff62-9e9d-4492-a340-6cd3f1b165f2",
   "metadata": {},
   "outputs": [
    {
     "data": {
      "image/png": "[encoded data removed]",
      "text/plain": [
       "<Figure size 640x480 with 1 Axes>"
      ]
     },
     "metadata": {},
     "output_type": "display_data"
    }
   ],
   "source": [
    "# Plot training and validation accuracy over epochs to visualize model performance\n",
    "\n",
    "# Plot the training accuracy over each epoch\n",
    "plt.plot(history.history['accuracy'], label='Training Accuracy')\n",
    "\n",
    "# Plot the validation accuracy over each epoch\n",
    "plt.plot(history.history['val_accuracy'], label='Validation Accuracy')\n",
    "\n",
    "# Label the x-axis to represent the number of training epochs\n",
    "plt.xlabel('Epoch')\n",
    "\n",
    "# Label the y-axis to represent accuracy values\n",
    "plt.ylabel('Accuracy')\n",
    "\n",
    "# Add a legend to distinguish between training and validation accuracy\n",
    "plt.legend()\n",
    "\n",
    "# Set the title of the plot to describe its contents\n",
    "plt.title('Training and Validation Accuracy')\n",
    "\n",
    "# Display the plot\n",
    "plt.show()\n",
    "\n"
   ]
  },
  {
   "cell_type": "markdown",
   "id": "5151e36a-9a09-4811-b3fe-c26cf2d341ca",
   "metadata": {},
   "source": [
    "### INSIGHTS:\n",
    "**The \"Training and Validation Accuracy\" graph shows how well the model performs on both the training and validation datasets over multiple epochs. Here are some key insights based on the trends observed:**\n",
    "\n",
    "**1. Accuracy Difference:**\n",
    "\n",
    "- The training accuracy steadily increases, reaching above 90% by the end, indicating that the model is effectively learning the patterns in the training data.\n",
    "- The validation accuracy, however, plateaus around 88% and shows more fluctuations than the training accuracy.\n",
    "\n",
    "**2. Potential Overfitting:**\n",
    "\n",
    "- Since the training accuracy continues to improve while the validation accuracy levels off and fluctuates, this could be a sign of overfitting.\n",
    "- Overfitting occurs when the model learns specific patterns in the training data that don't generalize well to unseen data.\n",
    "- This is common when the model becomes too complex or is trained for too many epochs, causing it to fit noise or specific details in the training set."
   ]
  },
  {
   "cell_type": "code",
   "execution_count": 19,
   "id": "d85e47b7-951b-4f02-8665-70873348e060",
   "metadata": {},
   "outputs": [
    {
     "data": {
      "image/png": "[encoded data removed]",
      "text/plain": [
       "<Figure size 640x480 with 1 Axes>"
      ]
     },
     "metadata": {},
     "output_type": "display_data"
    }
   ],
   "source": [
    "# Plot training and validation loss over epochs to assess how well the model fits the data\n",
    "\n",
    "# Plot the training loss over each epoch\n",
    "plt.plot(history.history['loss'], label='Training Loss')\n",
    "\n",
    "# Plot the validation loss over each epoch\n",
    "plt.plot(history.history['val_loss'], label='Validation Loss')\n",
    "\n",
    "# Label the x-axis to represent the number of training epochs\n",
    "plt.xlabel('Epoch')\n",
    "\n",
    "# Label the y-axis to represent loss values\n",
    "plt.ylabel('Loss')\n",
    "\n",
    "# Add a legend to distinguish between training and validation loss\n",
    "plt.legend()\n",
    "\n",
    "# Set the title of the plot to describe its contents\n",
    "plt.title('Training and Validation Loss')\n",
    "\n",
    "# Display the plot\n",
    "plt.show()\n"
   ]
  },
  {
   "cell_type": "markdown",
   "id": "26ee86cb-0c08-4fa4-9f0b-d2d88e572251",
   "metadata": {},
   "source": [
    "### INSIGHTS:\n",
    "\n",
    "**The \"Training and Validation Loss\" graph provides the following insights:**\n",
    "\n",
    "**1. Consistent Training Loss Decrease:** The training loss decreases steadily across epochs, indicating that the model is effectively learning from the training data.\n",
    "\n",
    "**2. Validation Loss Fluctuations and Plateau:** The validation loss decreases initially but fluctuates and remains higher than the training loss. This suggests the model may be overfitting, as it performs better on the training data than on unseen validation data.\n",
    "\n",
    "**3. Overfitting Indication:** The widening gap between training and validation loss highlights potential overfitting. This means the model might be learning specific patterns in the training data that don’t generalize well to new data.\n"
   ]
  },
  {
   "cell_type": "markdown",
   "id": "0334d8bb-00ef-4d44-8910-a7c6c76d754a",
   "metadata": {},
   "source": [
    "### Step 9: Evaluate the Model on Test Set\n",
    "- Evaluate the trained model on the test data to determine its performance on unseen data.\n"
   ]
  },
  {
   "cell_type": "code",
   "execution_count": 21,
   "id": "e9f30265-2868-4eb1-9cba-68a45ea4b6ee",
   "metadata": {},
   "outputs": [
    {
     "name": "stdout",
     "output_type": "stream",
     "text": [
      "\u001b[1m313/313\u001b[0m \u001b[32m━━━━━━━━━━━━━━━━━━━━\u001b[0m\u001b[37m\u001b[0m \u001b[1m1s\u001b[0m 1ms/step - accuracy: 0.8797 - loss: 0.3631\n",
      "Test Accuracy: 0.8795999884605408\n",
      "\u001b[1m313/313\u001b[0m \u001b[32m━━━━━━━━━━━━━━━━━━━━\u001b[0m\u001b[37m\u001b[0m \u001b[1m1s\u001b[0m 2ms/step\n",
      "Test Precision: 0.8793035449946157\n",
      "Test Recall: 0.8796\n",
      "Test F1-Score: 0.8787190792994058\n"
     ]
    }
   ],
   "source": [
    "from sklearn.metrics import precision_score, recall_score, f1_score\n",
    "\n",
    "# Evaluate the model on the test data\n",
    "test_loss, test_acc = model.evaluate(x_test, y_test)\n",
    "print(f\"Test Accuracy: {test_acc}\")\n",
    "\n",
    "# Predict the classes for the test set\n",
    "test_predictions = np.argmax(model.predict(x_test), axis=1)\n",
    "\n",
    "# Calculate precision, recall, and F1-score\n",
    "test_precision = precision_score(y_test, test_predictions, average='weighted')\n",
    "test_recall = recall_score(y_test, test_predictions, average='weighted')\n",
    "test_f1 = f1_score(y_test, test_predictions, average='weighted')\n",
    "\n",
    "# Print the evaluation metrics\n",
    "print(f\"Test Precision: {test_precision}\")\n",
    "print(f\"Test Recall: {test_recall}\")\n",
    "print(f\"Test F1-Score: {test_f1}\")\n"
   ]
  },
  {
   "cell_type": "markdown",
   "id": "9f6c79ed-fad3-4980-82bb-999efab2b93c",
   "metadata": {},
   "source": [
    "# INSIGHTS WITH ANN ARCHITECTURE:\n",
    "**Here’s what each of these metrics indicates about our model:**\n",
    "\n",
    "- **Accuracy (87%):**\n",
    "The model correctly predicts the category of a fashion item 87% of the time, which shows it can generally distinguish between different clothing types. However, it misses about 13% of items, possibly due to similarity between certain classes, like T-shirts and shirts.\n",
    "\n",
    "- **Precision (87%):**\n",
    "The model’s precision indicates it reliably predicts each class, with 87% of predictions being correct when the model assigns an item to a class. This helps avoid frequent false positives, meaning that items like \"trousers\" are rarely mistaken for other classes, such as \"pullovers\" or \"coats.\"\n",
    "\n",
    "- **Recall (87%):**\n",
    "Recall shows the model’s ability to identify all items in each category correctly, with an 87% success rate. This means the model is generally effective at recognizing items it has learned, but a few may go undetected or be misclassified, especially between similar-looking classes (e.g., \"T-shirt/top\" vs. \"shirt\").\n",
    "\n",
    "- **F1-Score (87.8%):**\n",
    "This balanced score suggests the model performs consistently across all classes without favoring one over another. An 87.8% F1-score indicates it handles both the true positives and false negatives well, providing reliable performance on most items."
   ]
  },
  {
   "cell_type": "code",
   "execution_count": 21,
   "id": "0ee3eb75-8de7-4826-a757-65491c3835c1",
   "metadata": {},
   "outputs": [
    {
     "name": "stdout",
     "output_type": "stream",
     "text": [
      "\n",
      "Classification Report:\n",
      "              precision    recall  f1-score   support\n",
      "\n",
      "           0       0.83      0.86      0.84      1000\n",
      "           1       0.98      0.97      0.98      1000\n",
      "           2       0.81      0.76      0.78      1000\n",
      "           3       0.92      0.84      0.88      1000\n",
      "           4       0.72      0.89      0.79      1000\n",
      "           5       0.97      0.96      0.96      1000\n",
      "           6       0.73      0.64      0.68      1000\n",
      "           7       0.95      0.92      0.94      1000\n",
      "           8       0.96      0.97      0.97      1000\n",
      "           9       0.93      0.97      0.95      1000\n",
      "\n",
      "    accuracy                           0.88     10000\n",
      "   macro avg       0.88      0.88      0.88     10000\n",
      "weighted avg       0.88      0.88      0.88     10000\n",
      "\n"
     ]
    }
   ],
   "source": [
    "# Display the classification report\n",
    "print(\"\\nClassification Report:\")\n",
    "print(classification_report(y_test, test_predictions))"
   ]
  },
  {
   "cell_type": "markdown",
   "id": "5b67b996-b601-4811-bdf5-bad98738feee",
   "metadata": {},
   "source": [
    "## INSIGHTS FROM CLASSIFICATION REPORT WITH ANN ARCHITECTURE:\n",
    "**1. Overall Accuracy**\n",
    "**Accuracy: 88%**\n",
    "The model is performing reasonably well overall, correctly predicting the class of 88% of the images in the test set. While not perfect, this is a solid result for image classification tasks on the Fashion MNIST dataset.\n",
    "\n",
    "**2. Class-Specific Precision, Recall, and F1-Score**\n",
    "\n",
    "**Class 0 (T-shirt/top):**\n",
    "\n",
    "**Precision: 0.83, Recall: 0.86, F1-Score: 0.84**\n",
    "- The model is fairly good at identifying T-shirts (high recall), but could improve precision, meaning it occasionally misclassifies other items as T-shirts.\n",
    "\n",
    "\n",
    "**Class 1 (Trouser):**\n",
    "\n",
    "**Precision: 0.98, Recall: 0.97, F1-Score: 0.98**\n",
    "- High performance here with both precision and recall close to 1.0, meaning the model can confidently predict trousers and does not confuse them with other classes.\n",
    "\n",
    "**Class 2 (Pullover):**\n",
    "\n",
    "**Precision: 0.81, Recall: 0.76, F1-Score: 0.78**\n",
    "\n",
    "- Although recall is slightly lower (indicating the model misses some pullovers), precision is relatively high. The model could improve by reducing false positives, where it misclassifies other items as pullovers.\n",
    "  \n",
    "**Class 3 (Dress):**\n",
    "\n",
    "**Precision: 0.92, Recall: 0.84, F1-Score: 0.88**\n",
    "- The model shows balanced performance with high precision, but recall is a bit lower, meaning it misses a few dresses. There's room for improvement in capturing more dress images.\n",
    "\n",
    "**Class 4 (Coat):**\n",
    "\n",
    "**Precision: 0.72, Recall: 0.89, F1-Score: 0.79**\n",
    "\n",
    "- The model has a high recall for coats (good at identifying them), but precision is lower, indicating it misclassifies non-coat images as coats. Focus should be on improving precision.\n",
    "\n",
    "**Class 5 (Sandal):**\n",
    "\n",
    "**Precision: 0.97, Recall: 0.96, F1-Score: 0.96**\n",
    "- Excellent performance in recognizing sandals, with high precision and recall, indicating that the model is able to accurately identify sandals without confusion, making this one of the strongest classes..\n",
    "\n",
    "**Class 6 (Shirt):**\n",
    "\n",
    "**Precision: 0.73, Recall: 0.64, F1-Score: 0.68**\n",
    "\n",
    "- The model's performance on shirts could be improved. The lower recall suggests that many shirt images are being misclassified as other classes, even though it has decent precision.\n",
    "\n",
    "**Class 7 (Sneaker):**\n",
    "\n",
    "**Precision: 0.95, Recall: 0.92, F1-Score: 0.94**\n",
    "\n",
    "- High precision and recall suggest that the model performs very well on sneakers, with few errors in predicting this class.\n",
    "\n",
    "**Class 8 (Bag):**\n",
    "  \n",
    "**Precision: 0.96, Recall: 0.97, F1-Score: 0.97**\n",
    "\n",
    "- Excellent performance on bags, with both precision and recall near 1.0, making it one of the best-predicted classes. Very few bags are misclassified, demonstrating strong model performance.\n",
    "\n",
    "**Class 9 (Ankle Boot):**\n",
    "\n",
    "**Precision: 0.93, Recall: 0.97, F1-Score: 0.95**\n",
    "\n",
    "- Very good performance on ankle boots, with high precision and recall. The slight drop in recall suggests that a few ankle boots are misclassified, but overall the model performs excellently on this class.\n",
    "\n",
    "\n"
   ]
  },
  {
   "cell_type": "markdown",
   "id": "426e4993-b89e-45f4-a51d-09888d435f1d",
   "metadata": {},
   "source": [
    "### Step 10: Test Set Prediction\n",
    "- Use the trained model to predict classes for a few test samples.\n",
    "- Display the test images alongside their predicted and actual labels.\n"
   ]
  },
  {
   "cell_type": "code",
   "execution_count": 23,
   "id": "6d60cb1e-59a6-437a-a1e5-0b7c36bc6f14",
   "metadata": {},
   "outputs": [
    {
     "name": "stdout",
     "output_type": "stream",
     "text": [
      "\u001b[1m313/313\u001b[0m \u001b[32m━━━━━━━━━━━━━━━━━━━━\u001b[0m\u001b[37m\u001b[0m \u001b[1m1s\u001b[0m 2ms/step\n"
     ]
    },
    {
     "data": {
      "image/png": "[encoded data removed]",
      "text/plain": [
       "<Figure size 1000x1000 with 5 Axes>"
      ]
     },
     "metadata": {},
     "output_type": "display_data"
    }
   ],
   "source": [
    "# Predict classes for the test set using the trained model\n",
    "\n",
    "# Generate class predictions for each image in the test set\n",
    "predictions = model.predict(x_test)\n",
    "\n",
    "# Display a few test samples alongside their predicted and true labels for visual inspection\n",
    "\n",
    "# Set up a figure with specified size to show 5 sample images\n",
    "plt.figure(figsize=(10, 10))\n",
    "\n",
    "# Loop through the first 5 images in the test set to display predictions\n",
    "for i in range(5):\n",
    "    # Create a subplot to arrange images in a 1x5 grid format\n",
    "    plt.subplot(1, 5, i + 1)\n",
    "    \n",
    "    # Display each test image, reshaping from 784-dimensional vector back to 28x28 2D format\n",
    "    plt.imshow(x_test[i].reshape(28, 28), cmap='gray')\n",
    "    \n",
    "    # Set the title to show the predicted label and the true label for each sample\n",
    "    plt.title(f\"Pred: {np.argmax(predictions[i])}\\nTrue: {y_test[i]}\")\n",
    "    \n",
    "    # Turn off the axis for a cleaner display of each image\n",
    "    plt.axis('off')\n",
    "\n",
    "# Render the figure with the sample images, predicted, and true labels\n",
    "plt.show()\n"
   ]
  },
  {
   "cell_type": "markdown",
   "id": "3e94de97-6319-4529-a645-713963a69bb6",
   "metadata": {},
   "source": [
    "- **We are using the trained model to make predictions on the test set and display some sample predictions along with the actual labels.**\n",
    "- **This visual validation allows us to see the model’s performance on individual cases and observe any misclassifications.**\n",
    "- **Thus, it can be seen that all the predictions of classes are correct corresponding to their fashion item**"
   ]
  },
  {
   "cell_type": "markdown",
   "id": "123efb7f-6472-444a-bdc8-eb86692e5ca2",
   "metadata": {},
   "source": [
    "## Building and Training a CNN with Data Augmentation for Improved Classification Accuracy on Fashion MNIST"
   ]
  },
  {
   "cell_type": "markdown",
   "id": "d2b9f7b8-56f4-4a39-bf29-514da0b1315b",
   "metadata": {},
   "source": [
    "### 1.Import Libraries"
   ]
  },
  {
   "cell_type": "code",
   "execution_count": 25,
   "id": "bea75ee4-0805-4cf4-8952-3028958b191a",
   "metadata": {},
   "outputs": [],
   "source": [
    "import tensorflow as tf\n",
    "from tensorflow.keras.models import Sequential\n",
    "from tensorflow.keras.layers import Dense, Dropout, Flatten, BatchNormalization\n",
    "from tensorflow.keras.layers import Conv2D, MaxPooling2D\n",
    "from tensorflow.keras.optimizers import Adam\n",
    "from tensorflow.keras.callbacks import EarlyStopping, ReduceLROnPlateau\n",
    "from tensorflow.keras.preprocessing.image import ImageDataGenerator\n",
    "from sklearn.metrics import classification_report\n",
    "\n"
   ]
  },
  {
   "cell_type": "markdown",
   "id": "0f97a286-5303-43c8-a807-dd1b4adb5647",
   "metadata": {},
   "source": [
    "### 2. Data Normalization"
   ]
  },
  {
   "cell_type": "code",
   "execution_count": 27,
   "id": "15332dd1-84d8-4b79-98fc-b3c8106204a4",
   "metadata": {},
   "outputs": [],
   "source": [
    "# Reshape x_train and x_test to 4D for grayscale images\n",
    "x_train = x_train.reshape(-1, 28, 28, 1)\n",
    "x_test = x_test.reshape(-1, 28, 28, 1)\n",
    "\n",
    "# Normalize pixel values\n",
    "x_train, x_test = x_train / 255.0, x_test / 255.0\n"
   ]
  },
  {
   "cell_type": "markdown",
   "id": "27f58107-cfc6-4484-bf35-ee4bb4404965",
   "metadata": {},
   "source": [
    "### 3. Data Augmentation"
   ]
  },
  {
   "cell_type": "code",
   "execution_count": 29,
   "id": "0be4ccb9-b2c3-4c62-a165-5d9f28e4f896",
   "metadata": {},
   "outputs": [],
   "source": [
    "# Set up data augmentation parameters for the training dataset\n",
    "datagen = ImageDataGenerator(\n",
    "    rotation_range=10,      # Rotate images randomly within 10 degrees\n",
    "    width_shift_range=0.1,  # Shift images horizontally within 10% of width\n",
    "    height_shift_range=0.1, # Shift images vertically within 10% of height\n",
    "    zoom_range=0.1          # Randomly zoom in/out within 10% range\n",
    ")\n",
    "\n",
    "# Apply data augmentation to training set\n",
    "datagen.fit(x_train)"
   ]
  },
  {
   "cell_type": "markdown",
   "id": "1527e4fd-5596-4d0a-a906-a72fdf5f1e9a",
   "metadata": {},
   "source": [
    "- ***Data augmentation is applied to artificially expand the training dataset, improving generalization by creating slightly modified versions of each image (rotations, shifts, zooms).***\n",
    "- ***This reduces overfitting, making the model more robust to variations in real-world data.***"
   ]
  },
  {
   "cell_type": "markdown",
   "id": "9f2fb2fb-4ed9-4f23-a4a5-fde06ca5ec1e",
   "metadata": {},
   "source": [
    "### 4. Model Architecture"
   ]
  },
  {
   "cell_type": "code",
   "execution_count": 31,
   "id": "ed067922-bf18-4f87-9224-9175991ebdc6",
   "metadata": {},
   "outputs": [
    {
     "name": "stderr",
     "output_type": "stream",
     "text": [
      "C:\\Users\\taman\\anaconda3\\Lib\\site-packages\\keras\\src\\layers\\convolutional\\base_conv.py:107: UserWarning: Do not pass an `input_shape`/`input_dim` argument to a layer. When using Sequential models, prefer using an `Input(shape)` object as the first layer in the model instead.\n",
      "  super().__init__(activity_regularizer=activity_regularizer, **kwargs)\n"
     ]
    }
   ],
   "source": [
    "# Define the CNN model architecture\n",
    "model = Sequential([\n",
    "    # First convolutional layer with batch normalization\n",
    "    Conv2D(32, kernel_size=(3, 3), activation='relu', input_shape=(28, 28, 1)),\n",
    "    BatchNormalization(),\n",
    "    \n",
    "    # Second convolutional layer with max pooling\n",
    "    Conv2D(64, (3, 3), activation='relu'),\n",
    "    MaxPooling2D(pool_size=(2, 2)),\n",
    "    Dropout(0.25),  # Dropout to reduce overfitting\n",
    "\n",
    "    # Third convolutional layer with batch normalization and max pooling\n",
    "    Conv2D(128, (3, 3), activation='relu'),\n",
    "    BatchNormalization(),\n",
    "    MaxPooling2D(pool_size=(2, 2)),\n",
    "    Dropout(0.25),  # Dropout to reduce overfitting\n",
    "\n",
    "    # Flatten layer to transform 2D matrix to 1D vector\n",
    "    Flatten(),\n",
    "    \n",
    "    # Dense layer with batch normalization\n",
    "    Dense(128, activation='relu'),\n",
    "    BatchNormalization(),\n",
    "    Dropout(0.5),  # Dropout to reduce overfitting\n",
    "\n",
    "    # Additional dense layer with batch normalization\n",
    "    Dense(64, activation='relu'),\n",
    "    BatchNormalization(),\n",
    "    Dropout(0.5),  # Dropout to reduce overfitting\n",
    "\n",
    "    # Output layer for 10 classes\n",
    "    Dense(10, activation='softmax')\n",
    "])\n",
    "\n"
   ]
  },
  {
   "cell_type": "markdown",
   "id": "0cda33a7-5697-4d66-a41b-a5cc695b7a61",
   "metadata": {},
   "source": [
    "**The CNN model is built in layers:**\n",
    "\n",
    "- **Convolutional Layers:** Extract spatial features from images.\n",
    "- **Batch Normalization:**  Stabilizes and accelerates training by normalizing activations within layers.\n",
    "- **Max Pooling:**  Reduces dimensionality and computation, retaining important features.\n",
    "- **Dropout Layers:**  Helps reduce overfitting by randomly deactivating some neurons during training.\n",
    "- **Flatten Layer:**  Transforms the 2D matrix of features into a 1D vector, making it compatible with fully connected layers.\n",
    "- **Dense Layers:**  Fully connected layers to learn complex patterns in the data.\n",
    "- **Output Layer:**  Outputs a probability distribution across 10 classes."
   ]
  },
  {
   "cell_type": "markdown",
   "id": "538d0766-fd3b-4b92-95ae-34b10e0ec3f4",
   "metadata": {},
   "source": [
    "### 5. Model Compilation"
   ]
  },
  {
   "cell_type": "code",
   "execution_count": 33,
   "id": "66e7605e-4c16-428b-a647-077fbdb3bfd6",
   "metadata": {},
   "outputs": [],
   "source": [
    "# Compile the model with Adam optimizer\n",
    "optimizer = Adam(learning_rate=0.001)\n",
    "model.compile(\n",
    "    optimizer=optimizer,                     # Optimizer\n",
    "    loss='sparse_categorical_crossentropy',   # Loss function for multi-class classification\n",
    "    metrics=['accuracy']                      # Metric to evaluate model performance\n",
    ")\n",
    "\n"
   ]
  },
  {
   "cell_type": "markdown",
   "id": "78bb7da1-54f6-48c4-adef-793f5d574e08",
   "metadata": {},
   "source": [
    "- ***The model is compiled with the Adam optimizer and a sparse categorical cross-entropy loss function, which is well-suited for multi-class classification problems.***\n",
    "- ***The accuracy metric is chosen to track model performance.***"
   ]
  },
  {
   "cell_type": "markdown",
   "id": "fae399ba-3987-40f0-b329-796f63578a22",
   "metadata": {},
   "source": [
    "### 6. Callbacks"
   ]
  },
  {
   "cell_type": "code",
   "execution_count": 35,
   "id": "c5fbdae6-5469-400b-942f-cd1a415e2ba6",
   "metadata": {},
   "outputs": [],
   "source": [
    "# Define early stopping and learning rate reduction callbacks\n",
    "early_stopping = EarlyStopping(\n",
    "    monitor='val_loss',            # Monitors validation loss\n",
    "    patience=10,                   # Stops training if no improvement for 10 epochs\n",
    "    restore_best_weights=True      # Restores model weights from best epoch\n",
    ")\n",
    "reduce_lr = ReduceLROnPlateau(\n",
    "    monitor='val_loss',            # Monitors validation loss\n",
    "    factor=0.5,                    # Reduces learning rate by half if no improvement\n",
    "    patience=5,                    # Waits for 5 epochs before reducing learning rate\n",
    "    min_lr=1e-5                    # Sets minimum learning rate\n",
    ")\n",
    "\n"
   ]
  },
  {
   "cell_type": "markdown",
   "id": "0254b699-d853-412b-9874-1090b186c87d",
   "metadata": {},
   "source": [
    "- ***Early Stopping:*** Prevents overfitting by stopping training if the validation loss doesn’t improve after a specified patience period.\n",
    "- ***Reduce Learning Rate:*** Dynamically reduces the learning rate when progress stalls, allowing the model to continue improving at a finer scale."
   ]
  },
  {
   "cell_type": "markdown",
   "id": "ab7b313c-5570-4e65-8066-ef386548b4fd",
   "metadata": {},
   "source": [
    "### 7. Model Training with Data Augmentation"
   ]
  },
  {
   "cell_type": "code",
   "execution_count": 37,
   "id": "108c2f98-a4ad-40a0-811b-871e3a4e77aa",
   "metadata": {},
   "outputs": [
    {
     "name": "stdout",
     "output_type": "stream",
     "text": [
      "Epoch 1/10\n"
     ]
    },
    {
     "name": "stderr",
     "output_type": "stream",
     "text": [
      "C:\\Users\\taman\\anaconda3\\Lib\\site-packages\\keras\\src\\trainers\\data_adapters\\py_dataset_adapter.py:121: UserWarning: Your `PyDataset` class should call `super().__init__(**kwargs)` in its constructor. `**kwargs` can include `workers`, `use_multiprocessing`, `max_queue_size`. Do not pass these arguments to `fit()`, as they will be ignored.\n",
      "  self._warn_if_super_not_called()\n"
     ]
    },
    {
     "name": "stdout",
     "output_type": "stream",
     "text": [
      "\u001b[1m938/938\u001b[0m \u001b[32m━━━━━━━━━━━━━━━━━━━━\u001b[0m\u001b[37m\u001b[0m \u001b[1m73s\u001b[0m 72ms/step - accuracy: 0.5617 - loss: 1.2839 - val_accuracy: 0.7785 - val_loss: 0.5388 - learning_rate: 0.0010\n",
      "Epoch 2/10\n",
      "\u001b[1m938/938\u001b[0m \u001b[32m━━━━━━━━━━━━━━━━━━━━\u001b[0m\u001b[37m\u001b[0m \u001b[1m71s\u001b[0m 75ms/step - accuracy: 0.7425 - loss: 0.6904 - val_accuracy: 0.8203 - val_loss: 0.4568 - learning_rate: 0.0010\n",
      "Epoch 3/10\n",
      "\u001b[1m938/938\u001b[0m \u001b[32m━━━━━━━━━━━━━━━━━━━━\u001b[0m\u001b[37m\u001b[0m \u001b[1m67s\u001b[0m 72ms/step - accuracy: 0.7776 - loss: 0.5990 - val_accuracy: 0.8227 - val_loss: 0.4488 - learning_rate: 0.0010\n",
      "Epoch 4/10\n",
      "\u001b[1m938/938\u001b[0m \u001b[32m━━━━━━━━━━━━━━━━━━━━\u001b[0m\u001b[37m\u001b[0m \u001b[1m66s\u001b[0m 70ms/step - accuracy: 0.8025 - loss: 0.5423 - val_accuracy: 0.8721 - val_loss: 0.3502 - learning_rate: 0.0010\n",
      "Epoch 5/10\n",
      "\u001b[1m938/938\u001b[0m \u001b[32m━━━━━━━━━━━━━━━━━━━━\u001b[0m\u001b[37m\u001b[0m \u001b[1m67s\u001b[0m 71ms/step - accuracy: 0.8186 - loss: 0.5075 - val_accuracy: 0.8808 - val_loss: 0.3238 - learning_rate: 0.0010\n",
      "Epoch 6/10\n",
      "\u001b[1m938/938\u001b[0m \u001b[32m━━━━━━━━━━━━━━━━━━━━\u001b[0m\u001b[37m\u001b[0m \u001b[1m67s\u001b[0m 71ms/step - accuracy: 0.8315 - loss: 0.4733 - val_accuracy: 0.8010 - val_loss: 0.5919 - learning_rate: 0.0010\n",
      "Epoch 7/10\n",
      "\u001b[1m938/938\u001b[0m \u001b[32m━━━━━━━━━━━━━━━━━━━━\u001b[0m\u001b[37m\u001b[0m \u001b[1m66s\u001b[0m 71ms/step - accuracy: 0.8360 - loss: 0.4616 - val_accuracy: 0.8839 - val_loss: 0.3196 - learning_rate: 0.0010\n",
      "Epoch 8/10\n",
      "\u001b[1m938/938\u001b[0m \u001b[32m━━━━━━━━━━━━━━━━━━━━\u001b[0m\u001b[37m\u001b[0m \u001b[1m65s\u001b[0m 70ms/step - accuracy: 0.8420 - loss: 0.4462 - val_accuracy: 0.8828 - val_loss: 0.3244 - learning_rate: 0.0010\n",
      "Epoch 9/10\n",
      "\u001b[1m938/938\u001b[0m \u001b[32m━━━━━━━━━━━━━━━━━━━━\u001b[0m\u001b[37m\u001b[0m \u001b[1m68s\u001b[0m 72ms/step - accuracy: 0.8500 - loss: 0.4277 - val_accuracy: 0.8934 - val_loss: 0.2945 - learning_rate: 0.0010\n",
      "Epoch 10/10\n",
      "\u001b[1m938/938\u001b[0m \u001b[32m━━━━━━━━━━━━━━━━━━━━\u001b[0m\u001b[37m\u001b[0m \u001b[1m66s\u001b[0m 70ms/step - accuracy: 0.8546 - loss: 0.4188 - val_accuracy: 0.8932 - val_loss: 0.2921 - learning_rate: 0.0010\n"
     ]
    }
   ],
   "source": [
    "history = model.fit(    datagen.flow(x_train, y_train, batch_size=64),\n",
    "    epochs=10,\n",
    "    validation_data=(x_test, y_test),\n",
    "    callbacks=[early_stopping, reduce_lr]\n",
    ")\n"
   ]
  },
  {
   "cell_type": "markdown",
   "id": "f1f9e8bc-04cc-4dde-a38f-2c420116200b",
   "metadata": {},
   "source": [
    "***The model is trained with the augmented training data for a maximum of 10 epochs. Validation data is used to monitor progress and adjust training through callbacks***"
   ]
  },
  {
   "cell_type": "markdown",
   "id": "1eb4dbe9-0014-4644-8427-7c5ec780c264",
   "metadata": {},
   "source": [
    "### 8. Model Evaluation"
   ]
  },
  {
   "cell_type": "code",
   "execution_count": 41,
   "id": "c060c046-d6b7-440e-bd1c-be2da7113e73",
   "metadata": {},
   "outputs": [
    {
     "name": "stdout",
     "output_type": "stream",
     "text": [
      "\u001b[1m313/313\u001b[0m \u001b[32m━━━━━━━━━━━━━━━━━━━━\u001b[0m\u001b[37m\u001b[0m \u001b[1m4s\u001b[0m 11ms/step - accuracy: 0.8908 - loss: 0.2984\n",
      "Test Accuracy: 89.32%\n"
     ]
    }
   ],
   "source": [
    "# Evaluate the model on test set\n",
    "test_loss, test_accuracy = model.evaluate(x_test, y_test)\n",
    "print(f'Test Accuracy: {test_accuracy * 100:.2f}%')\n",
    "\n"
   ]
  },
  {
   "cell_type": "markdown",
   "id": "17a3e0fa-be5d-4893-9121-ff7a5f987103",
   "metadata": {},
   "source": [
    "***The CNN model outperforms the ANN, with accuracy improving from 87% to 89.32%. This suggests that CNNs are better for image classification, as they effectively capture spatial features, leading to better feature learning and generalization.***\n"
   ]
  },
  {
   "cell_type": "markdown",
   "id": "d1c08cd0-7c39-4023-a014-3b085be29a93",
   "metadata": {},
   "source": [
    "### 9. Classification Report"
   ]
  },
  {
   "cell_type": "code",
   "execution_count": 44,
   "id": "d0c684c6-b4b9-4ec4-b2a4-59348f06c9b4",
   "metadata": {},
   "outputs": [
    {
     "name": "stdout",
     "output_type": "stream",
     "text": [
      "\u001b[1m313/313\u001b[0m \u001b[32m━━━━━━━━━━━━━━━━━━━━\u001b[0m\u001b[37m\u001b[0m \u001b[1m4s\u001b[0m 13ms/step\n",
      "              precision    recall  f1-score   support\n",
      "\n",
      "           0       0.88      0.80      0.84      1000\n",
      "           1       0.99      0.98      0.98      1000\n",
      "           2       0.87      0.83      0.85      1000\n",
      "           3       0.86      0.91      0.89      1000\n",
      "           4       0.84      0.79      0.81      1000\n",
      "           5       0.98      0.98      0.98      1000\n",
      "           6       0.64      0.72      0.68      1000\n",
      "           7       0.95      0.97      0.96      1000\n",
      "           8       0.98      0.99      0.98      1000\n",
      "           9       0.98      0.95      0.96      1000\n",
      "\n",
      "    accuracy                           0.89     10000\n",
      "   macro avg       0.90      0.89      0.89     10000\n",
      "weighted avg       0.90      0.89      0.89     10000\n",
      "\n"
     ]
    }
   ],
   "source": [
    "# Generate predictions and print classification report\n",
    "y_pred = model.predict(x_test).argmax(axis=1)  # Predict classes for test set\n",
    "print(classification_report(y_test, y_pred))   # Classification report with precision, recall, f1-score\n"
   ]
  },
  {
   "cell_type": "markdown",
   "id": "3ebffaa5-10af-4e0c-bd27-3e5b5eb340d8",
   "metadata": {},
   "source": [
    "# INSIGHTS WITH CNN ARCHITECTURE:\n",
    "The classification report reflects the performance of the CNN model on the Fashion MNIST dataset, following enhancements such as data augmentation and early stopping. Here’s an analysis of what these metrics indicate for each fashion item:\n",
    "\n",
    "- ***High Performance in Certain Classes:***\n",
    "\n",
    "**Classes like Trouser (1), Sandal (5), Sneaker (7), Bag (8), and Ankle Boot (9)** exhibit very high precision, recall, and F1 scores **(close to 1.0)**. These items are visually distinct, making them easier for the model to classify correctly. For example, trousers and sandals are generally unique in shape compared to other fashion items.\n",
    "\n",
    "- ***Moderate Performance in Other Classes:***\n",
    "\n",
    "**Classes such as T-shirt/top (0), Pullover (2), Dress (3), and Coat (4)** show slightly lower precision, recall, and F1 scores **(ranging from 0.81 to 0.89)**. This performance suggests the model may occasionally confuse these items due to their similar appearance (e.g., T-shirts and pullovers or dresses and coats).\n",
    "\n",
    "                                                                                                                                           \n",
    "- ***Lowest Performance in the ‘Shirt’ Class (6):***\n",
    "\n",
    "The **Shirt (6)** class has the lowest precision, recall, and F1 score **(precision: 0.64, recall: 0.72)**. This lower performance likely results from visual similarities with other classes (e.g., T-shirts or pullovers), causing the model to misclassify shirts more often.\n",
    "\n",
    "- ***Overall Accuracy and Consistency:***\n",
    "\n",
    "The **overall accuracy of 0.89** shows that the model correctly classifies most images, with an overall strong balance between precision and recall across all classes.\n",
    "\n",
    "**The macro average and weighted average values for precision are 0.90, while recall and F1-score are  0.89**, indicating consistent performance across most classes, though a few classes remain challenging.\n",
    "\n",
    "\n",
    "\n",
    "\n",
    "\n",
    "\n",
    "\n",
    "\n",
    "\n",
    "\n",
    "\n",
    "\n",
    "\n",
    "\n",
    "\n"
   ]
  },
  {
   "cell_type": "markdown",
   "id": "2611ef90-bfda-4433-a6fe-7c464c4bfec9",
   "metadata": {},
   "source": [
    "# COMPARISON BETWEEN PERFORMANCE OF ANN AND CNN:"
   ]
  },
  {
   "cell_type": "markdown",
   "id": "54d5ef08-997c-480e-b8f7-e4c521c73653",
   "metadata": {},
   "source": [
    "# **Detailed Comparison of ANN and CNN Performance with F1-Score Insights**\r\n",
    "\r\n",
    "## **Class 0 - T-shirt/top:**\r\n",
    "\r\n",
    "### **ANN:**\r\n",
    "- **Precision (0.83):** 83% of items classified as T-shirts/tops are correct, with 17% being false positives.\r\n",
    "- **Recall (0.86):** 86% of all T-shirts/tops in the dataset are correctly identified, with 14% missed as false negatives.\r\n",
    "- **F1-score (0.84):** Indicates a balanced performance between precision and recall, though there is room for improvement in reducing false positives and negatives.\r\n",
    "\r\n",
    "### **CNN:**\r\n",
    "- **Precision (0.88):** Higher precision than ANN, indicating fewer false positives.\r\n",
    "- **Recall (0.80):** Lower recall compared to ANN, leading to more missed T-shirts/tops.\r\n",
    "- **F1-score (0.84):** Same as ANN, meaning that although CNN has fewer false positives, it has slightly more false negatives.\r\n",
    "\r\n",
    "---\r\n",
    "\r\n",
    "## **Class 1 - Trouser:**\r\n",
    "\r\n",
    "### **ANN:**\r\n",
    "- **Precision (0.98):** Very high precision with minimal false positives.\r\n",
    "- **Recall (0.97):** 97% of all trousers are correctly identified.\r\n",
    "- **F1-score (0.98):** Strong performance, with balanced precision and recall.\r\n",
    "\r\n",
    "### **CNN:**\r\n",
    "- **Precision (0.99):** Even fewer false positives than ANN.\r\n",
    "- **Recall (0.98):** Slightly higher recall than ANN, reducing missed trousers.\r\n",
    "- **F1-score (0.99):** Close to perfect, indicating the CNN's superior performance in identifying trousers accurately.\r\n",
    "\r\n",
    "---\r\n",
    "\r\n",
    "## **Class 2 - Pullover:**\r\n",
    "\r\n",
    "### **ANN:**\r\n",
    "- **Precision (0.81):** 81% precision, with 19% of items incorrectly classified as pullovers.\r\n",
    "- **Recall (0.76):** Misses 24% of actual pullovers.\r\n",
    "- **F1-score (0.78):** Indicates a moderate trade-off between precision and recall, suggesting the model could improve in capturing pullovers more accurately.\r\n",
    "\r\n",
    "### **CNN:**\r\n",
    "- **Precision (0.87):** Higher precision, meaning fewer items are misclassified as pullovers.\r\n",
    "- **Recall (0.83):** Higher recall compared to ANN, capturing more pullovers.\r\n",
    "- **F1-score (0.85):** Better balanced than ANN, showing CNN's superior capability in identifying pullovers.\r\n",
    "\r\n",
    "---\r\n",
    "\r\n",
    "## **Class 3 - Dress:**\r\n",
    "\r\n",
    "### **ANN:**\r\n",
    "- **Precision (0.92):** High precision with 8% false positives.\r\n",
    "- **Recall (0.84):** 84% of dresses are correctly classified.\r\n",
    "- **F1-score (0.88):** Strong balance but slightly impacted by missed dresses.\r\n",
    "\r\n",
    "### **CNN:**\r\n",
    "- **Precision (0.86):** Slightly lower precision with more false positives.\r\n",
    "- **Recall (0.91):** Higher recall, capturing more dresses.\r\n",
    "- **F1-score (0.88):** Similar to ANN, reflecting a balanced approach in dress classification.\r\n",
    "\r\n",
    "---\r\n",
    "\r\n",
    "## **Class 4 - Coat:**\r\n",
    "\r\n",
    "### **ANN:**\r\n",
    "- **Precision (0.72):** Only 72% precision, with a significant portion of false positives.\r\n",
    "- **Recall (0.89):** High recall indicates most coats are captured.\r\n",
    "- **F1-score (0.80):** Moderate performance, suggesting the need for improvement in precision.\r\n",
    "\r\n",
    "### **CNN:**\r\n",
    "- **Precision (0.84):** Higher precision than ANN, reducing false positives.\r\n",
    "- **Recall (0.79):** Lower recall, missing more coats.\r\n",
    "- **F1-score (0.81):** Similar to ANN, with CNN showing better precision but slightly less recall.\r\n",
    "\r\n",
    "---\r\n",
    "\r\n",
    "## **Class 5 - Sandal:**\r\n",
    "\r\n",
    "### **ANN:**\r\n",
    "- **Precision (0.97):** Very high precision, with minimal false positives.\r\n",
    "- **Recall (0.96):** High recall, capturing most sandals.\r\n",
    "- **F1-score (0.96):** Strong performance, demonstrating a balanced classification for sandals.\r\n",
    "\r\n",
    "### **CNN:**\r\n",
    "- **Precision (0.98):** Slightly higher precision, indicating fewer false positives.\r\n",
    "- **Recall (0.98):** Even higher recall, capturing nearly all sandals.\r\n",
    "- **F1-score (0.98):** Reflects CNN's superior accuracy and reliability for sandal classification.\r\n",
    "\r\n",
    "---\r\n",
    "\r\n",
    "## **Class 6 - Shirt:**\r\n",
    "\r\n",
    "### **ANN:**\r\n",
    "- **Precision (0.73):** Moderate precision, with 27% false positives.\r\n",
    "- **Recall (0.64):** Low recall, missing 36% of shirts.\r\n",
    "- **F1-score (0.68):** Indicates room for improvement in both precision and recall.\r\n",
    "\r\n",
    "### **CNN:**\r\n",
    "- **Precision (0.64):** Lower precision than ANN, with more items misclassified as shirts.\r\n",
    "- **Recall (0.72):** Higher recall than ANN, missing fewer actual shirts.\r\n",
    "- **F1-score (0.68):** Same as ANN, but CNN has a better balance between fewer missed shirts and more false positives.\r\n",
    "\r\n",
    "---\r\n",
    "\r\n",
    "## **Class 7 - Sneaker:**\r\n",
    "\r\n",
    "### **ANN:**\r\n",
    "- **Precision (0.95):** High precision, indicating minimal false positives.\r\n",
    "- **Recall (0.92):** High recall, capturing most sneakers.\r\n",
    "- **F1-score (0.94):** Shows balanced performance with minimal misclassifications.\r\n",
    "\r\n",
    "### **CNN:**\r\n",
    "- **Precision (0.95):** Same precision as ANN.\r\n",
    "- **Recall (0.97):** Higher recall than ANN, capturing more sneakers.\r\n",
    "- **F1-score (0.96):** Slightly higher than ANN, showing CNN's effectiveness in sneaker classification.\r\n",
    "\r\n",
    "---\r\n",
    "\r\n",
    "## **Class 8 - Bag:**\r\n",
    "\r\n",
    "### **ANN:**\r\n",
    "- **Precision (0.96):** High precision, with only 4% false positives.\r\n",
    "- **Recall (0.97):** Captures 97% of all bags.\r\n",
    "- **F1-score (0.96):** Balanced performance, showing accurate bag classification.\r\n",
    "\r\n",
    "### **CNN:**\r\n",
    "- **Precision (0.98):** Higher precision, with fewer false positives.\r\n",
    "- **Recall (0.99):** Very high recall, capturing almost all bags.\r\n",
    "- **F1-score (0.98):** Reflects CNN’s superior performance in bag classification.\r\n",
    "\r\n",
    "---\r\n",
    "\r\n",
    "## **Class 9 - Ankle boot:**\r\n",
    "\r\n",
    "### **ANN:**\r\n",
    "- **Precision (0.93):** High precision, with 7% false positives.\r\n",
    "- **Recall (0.97):** High recall, capturing most ankle boots.\r\n",
    "- **F1-score (0.95):** Balanced performance, though slightly impacted by false positives.\r\n",
    "\r\n",
    "### **CNN:**\r\n",
    "- **Precision (0.98):** Higher precision than ANN, with fewer false positives.\r\n",
    "- **Recall (0.95):** Se that **CNN handles complex classification tasks slightly better than ANN**, with fewer misclassifications and missed items across most classes.\r\n",
    "r recall, with 5% false negatives, meaning a few more missed ankle boots compared to ANN.\r\n"
   ]
  },
  {
   "cell_type": "markdown",
   "id": "efd9b8b8-7e16-4e5b-8c1a-f89f0f2cd766",
   "metadata": {},
   "source": [
    "## OVERALL COMPARISON:\n",
    "- **Accuracy:** CNN provides better accuracy than ANN (89% vs. 87%).\n",
    "\n",
    "- **Precision, Recall, F1-Score:** CNN outperforms ANN in all these metrics, indicating superior overall performance, especially in achieving a balance between precision and recall.\n",
    "\n",
    "- **Class-wise performance:** Both models perform similarly on some classes, but CNN consistently provides higher precision and recall across most classes, particularly for harder-to-classify classes like Class 6 (Shirt).\n",
    "\n",
    "- **General Insights:**\n",
    "1. CNN is better at handling image data and capturing spatial features, making it the more suitable architecture for image classification tasks.\n",
    "2. The ANN, while effective, shows limitations in precision and recall for certain classes (like Class 6), likely due to the absence of convolutional layers that capture spatial dependencies in the data.\n",
    "\n",
    "**In conclusion, CNN is the preferred model for Fashion MNIST classification, offering superior accuracy, precision, recall, and F1-Score across most metrics, showcasing its advantages for image classification tasks.**"
   ]
  },
  {
   "cell_type": "markdown",
   "id": "88ab8f7f-039e-403b-a364-8e2d5a31648a",
   "metadata": {},
   "source": [
    "# CONCLUSION:\n",
    "\n",
    "- **The CNN with data augmentation and early stopping outperforms the ANN in terms of all key metrics, including accuracy, precision, recall, and F1-score.**\n",
    "-  **The use of data augmentation and early stopping helped improve the generalization and accuracy of the CNN model.**\n"
   ]
  }
 ],
 "metadata": {
  "kernelspec": {
   "display_name": "Python 3 (ipykernel)",
   "language": "python",
   "name": "python3"
  },
  "language_info": {
   "codemirror_mode": {
    "name": "ipython",
    "version": 3
   },
   "file_extension": ".py",
   "mimetype": "text/x-python",
   "name": "python",
   "nbconvert_exporter": "python",
   "pygments_lexer": "ipython3",
   "version": "3.12.3"
  }
 },
 "nbformat": 4,
 "nbformat_minor": 5
}
